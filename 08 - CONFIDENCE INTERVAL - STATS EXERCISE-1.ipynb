{
 "cells": [
  {
   "cell_type": "markdown",
   "metadata": {
    "colab_type": "text",
    "id": "uZlAETImqH3Z"
   },
   "source": [
    "## Confidence Intervals    "
   ]
  },
  {
   "cell_type": "markdown",
   "metadata": {
    "colab_type": "text",
    "id": "_KJxW-YuqH3a"
   },
   "source": [
    "* When there is an uncertainity around measuring the value of an important poulation parameter, it is better to find the range in which the range in which the value of the parameter is likely to lie rather than predicting a point estimate (single value).\n",
    "* Confidence interval is the range in which the value of a population parameter is likely to lie with certain probability.\n",
    "* Confidence interval provides additional information about the population parameter that will be useful in decision making."
   ]
  },
  {
   "cell_type": "markdown",
   "metadata": {
    "colab_type": "text",
    "id": "kDXkoz-kqH3a"
   },
   "source": [
    "### Confidence interval for population mean"
   ]
  },
  {
   "cell_type": "markdown",
   "metadata": {
    "colab_type": "text",
    "id": "elPx7EPrqH3b"
   },
   "source": [
    "Let $X_1$, $X_2$, $X_3$, ..., $X_n$ be the sample means of samples, $S_1$, $S_3$,  $S_3$, ..., $S_n$ that are drawn from an independent and identically distributed population with mean, $\\mu$ and stamdard deviation, $\\sigma$.\n",
    "\n",
    "From the Central Limit Theorem, we know that the sample means, $X_i$ follows a normal distribution with mean, $\\mu$ and standard deviation $\\frac{\\sigma} {\\sqrt{n}}$."
   ]
  },
  {
   "cell_type": "markdown",
   "metadata": {
    "colab_type": "text",
    "id": "WwtapTxkqH3c"
   },
   "source": [
    "The variable Z = $\\frac{X_i - \\mu}{\\frac{\\sigma} {\\sqrt{n}}}$ follows a standard normal variable.\n",
    "\n",
    "### Assume that we want to find (1 - $\\alpha$) 100% confidence interval for the population mean. \n",
    "* We can distribute $\\alpha$ (probability of not observing true population parameter mean in the interval) equally ($\\alpha/2$) on either side of the distribution shown."
   ]
  },
  {
   "cell_type": "markdown",
   "metadata": {
    "colab_type": "text",
    "id": "2_vZRudfqH3c"
   },
   "source": [
    "* For $\\alpha$ = 0.05 or $\\alpha/2$ = 0.025, that is 95% confidence interval, we can calculate lower and upper values of the confidence interval from the standard normal distribution.\n",
    "* scipy.stats.norm.isf(q = 0.025) gives the value of Z for which the area under the normal distribution is less than 0.025.\n",
    "* The corresponding value is approximately 1.96 as shown in the previous example.\n",
    "* Using the transformation relationship between standard normal random variable Z and normal random variable X, we can write the 95% confidence interval for population mean when population standard deviation ($\\sigma$) is known as:\n",
    "$\\overline{X} \\pm 1.96 \\frac {\\sigma} {\\sqrt{n}}$, where $\\overline{X} is the estimated value of mean from a sample of size n."
   ]
  },
  {
   "cell_type": "markdown",
   "metadata": {
    "colab_type": "text",
    "id": "bc9WxkX6qH3d"
   },
   "source": [
    "#### In general, (1 - $\\alpha$) 100% the confidence interval for the population mean when population standard deviation is known can be written as \n",
    "\n",
    "$\\overline{X} \\pm Z _\\frac{\\alpha}{2} \\frac {\\sigma} {\\sqrt{n}}$\n",
    "\n",
    "This equation is valid for large sample sizes, irrespective of the distribution of the population.\n",
    "\n",
    "This is equivalent to"
   ]
  },
  {
   "cell_type": "markdown",
   "metadata": {
    "colab_type": "text",
    "id": "moOoNubWqH3e"
   },
   "source": [
    "P($\\overline{X} - Z_\\frac{\\alpha}{2} \\times \\frac{\\sigma}{\\sqrt{n}} \\leq \\mu \\leq \\overline{X} + Z_\\frac{\\alpha}{2} \\times \\frac{\\sigma}{\\sqrt{n}}$) = 1 - $\\alpha$"
   ]
  },
  {
   "cell_type": "markdown",
   "metadata": {
    "colab_type": "text",
    "id": "YHqWo8xyqH3e"
   },
   "source": [
    "The absolute values of $Z_\\frac{\\alpha}{2}$ are shown in the following table:"
   ]
  },
  {
   "cell_type": "code",
   "execution_count": 0,
   "metadata": {
    "colab": {},
    "colab_type": "code",
    "id": "rZE_OL_YqH3f",
    "outputId": "f8317ed0-664b-499c-f0d3-b60bc6a15662"
   },
   "outputs": [
    {
     "name": "stdout",
     "output_type": "stream",
     "text": [
      "       Z_alpha_by_2  alpha\n",
      "alpha          1.64   0.10\n",
      "alpha          1.96   0.05\n",
      "alpha          2.33   0.02\n",
      "alpha          2.58   0.01\n"
     ]
    }
   ],
   "source": [
    "df                 =  pd.DataFrame()\n",
    "Significance_Level =  [0.1, 0.05, 0.02, 0.01] \n",
    "\n",
    "for i in range(len(Significance_Level)):\n",
    "    SL_2    =  Significance_Level[i] / 2\n",
    "    Z              = np.abs(round(stats.norm.isf(q = SL_2),2))\n",
    "    data           =  pd.DataFrame({\"alpha\": Significance_Level[i], \"Z_alpha_by_2\" : Z}, index = ['alpha'] )\n",
    "    df = df.append(data)\n",
    "print(df)"
   ]
  },
  {
   "cell_type": "markdown",
   "metadata": {
    "colab_type": "text",
    "id": "clGyKtrTqH3i"
   },
   "source": [
    "| $\\quad \\alpha \\quad$  | $Z_\\frac{\\alpha}{2}$ | Confidence Interval for $\\mu$ when $\\sigma$ is known |\n",
    "| ----         | ----             | -------------------------------------------------------- |\n",
    "| 0.1          | 1.64             |  $\\overline{X} \\quad \\pm 1.64 \\frac {\\sigma} {\\sqrt{n}}$  |\n",
    "| 0.05         | 1.96             |  $\\overline{X} \\quad \\pm 1.96 \\frac {\\sigma} {\\sqrt{n}}$  |      \n",
    "| 0.02         | 2.33             |  $\\overline{X} \\quad \\pm 2.33 \\frac {\\sigma} {\\sqrt{n}}$  |\n",
    "| 0.01         | 2.58             |  $\\overline{X} \\quad \\pm 2.58 \\frac {\\sigma} {\\sqrt{n}}$  |                                                        |"
   ]
  },
  {
   "cell_type": "markdown",
   "metadata": {
    "colab_type": "text",
    "id": "-XEJDgq8qH3i"
   },
   "source": [
    "### EXERCISE"
   ]
  },
  {
   "cell_type": "markdown",
   "metadata": {
    "colab_type": "text",
    "id": "vRMXPRt4qH3j"
   },
   "source": [
    "A sample of 100 diabetic patients was chosen to estimate the length of stay at a local hospital. \n",
    "The sample was 4.5 days and the population standard deviation was known to be 1.2 days.\n",
    "\n",
    "* a) Calculate the 95% confidence interval for the population mean.\n",
    "* b) What is the probability that the population mean is greater than 4.73 days?"
   ]
  },
  {
   "cell_type": "markdown",
   "metadata": {
    "colab_type": "text",
    "id": "8KeKpDnaqH3u"
   },
   "source": [
    "We need to do the following:\n",
    "* a. Calculate Z value corresponding to 4.73 by subtracting Xavg and divide by s\n",
    "* b. find out the probability corresponding to the Z value using scipy.stats.norm.cdf and then subtracting from 1 since cdf gives cumulative probability upto the Z value sincd we are interested in finding the probability that the population mean is greater than Z"
   ]
  },
  {
   "cell_type": "code",
   "execution_count": 1,
   "metadata": {},
   "outputs": [
    {
     "name": "stdout",
     "output_type": "stream",
     "text": [
      "4.2648  < ci <  4.7352\n"
     ]
    }
   ],
   "source": [
    "#  the 95% confidence interval for the population mean.\n",
    "print(4.5 - ((1.96 * 1.2)/(100)**(1/2)),\" < ci < \",4.5 + ((1.96 * 1.2)/(100)**(1/2)))"
   ]
  },
  {
   "cell_type": "code",
   "execution_count": 5,
   "metadata": {},
   "outputs": [
    {
     "name": "stdout",
     "output_type": "stream",
     "text": [
      "probability 42.40016589978113 %\n"
     ]
    }
   ],
   "source": [
    "#  the probability that the population mean is greater than 4.73 days\n",
    "import scipy.stats as st\n",
    "z = (4.73 - 4.5)/1.2\n",
    "print(\"probability\",(1-st.norm.cdf(z))*100,\"%\")"
   ]
  },
  {
   "cell_type": "markdown",
   "metadata": {
    "colab_type": "text",
    "id": "alRZzy0nqH36"
   },
   "source": [
    "### EXERCISE"
   ]
  },
  {
   "cell_type": "markdown",
   "metadata": {
    "colab_type": "text",
    "id": "mHKKNbiuqH37"
   },
   "source": [
    "Hindustan Pencils Pvt. Ltd. is an Indian manufacturer of pencils, writing materials and other stationery items, established in 1958 in Mumbai. Nataraj brand of pencils manufactured by the company is expected to have a mean length of 172 mm and the standard deviation of the length is 0.02 mm.\n",
    "\n",
    "To ensure quality, a sample is selected at periodic intervals to determine whether the length is still 172 mm and other dimensions of the pencil meet the quality standards set by the company.\n",
    "\n",
    "You select a random sample of 100 pencils and the mean is 170 mm. \n",
    "\n",
    "Construct a 95% confidenct interval for the pencil length."
   ]
  },
  {
   "cell_type": "code",
   "execution_count": 6,
   "metadata": {},
   "outputs": [
    {
     "name": "stdout",
     "output_type": "stream",
     "text": [
      "169.99608  < ci <  170.00392\n"
     ]
    }
   ],
   "source": [
    "print(170 - ((1.96 * 0.02)/(100)**(1/2)),\" < ci < \",170 + ((1.96 * 0.02)/(100)**(1/2)))"
   ]
  },
  {
   "cell_type": "markdown",
   "metadata": {
    "colab_type": "text",
    "id": "iSDqeDQ4qH3_"
   },
   "source": [
    "### Confidence interval for population proportion"
   ]
  },
  {
   "cell_type": "markdown",
   "metadata": {
    "colab_type": "text",
    "collapsed": true,
    "id": "7JuFYJc9qH4A"
   },
   "source": [
    "The Central Limit Theorem for the population proportion is stated below:\n",
    "\n",
    "If $X_1$, $X_2$, ...,$X_n$ are from Bernoulli trials with probability of success p, that is E($X_i$) = p and Var($X_i$) =pq (where a = 1- p), \n",
    "* then the sampling distribution of probability of success (say $\\hat{p}$) for a large sample size follows an approximate normal distribution with mean p, and standard error $\\sqrt{\\frac{pq}{n}}$, where n is the sample size.\n"
   ]
  },
  {
   "cell_type": "markdown",
   "metadata": {
    "colab_type": "text",
    "id": "LERt40-aqH4A"
   },
   "source": [
    "The variable, $\\frac{\\hat{p} - p}{\\sqrt{\\frac{pq}{n}}}$ converges to a standard normal distribution."
   ]
  },
  {
   "cell_type": "markdown",
   "metadata": {
    "colab_type": "text",
    "id": "FRnzY_bLqH4B"
   },
   "source": [
    "Note:\n",
    "\n",
    "* The standard deviation of the sampling distribution of proportions depends on the value of p which is unknown.\n",
    "* Rule of thumb: value of n is set to npq $\\geq$ 10.\n",
    "\n",
    "The (1 - $\\alpha$)100% confidence interval for population proportion p is given by \n",
    "\n",
    "$\\hat{p}$ - $Z_\\frac{\\alpha}{2} \\sqrt{\\frac{\\hat(p)\\hat(q)}{n}}$ $\\leq$ p\n",
    "$\\leq$ $\\hat{p}$ + $Z_\\frac{\\alpha}{2} \\sqrt{\\frac{\\hat(p)\\hat(q)}{n}}$ "
   ]
  },
  {
   "cell_type": "markdown",
   "metadata": {
    "colab_type": "text",
    "id": "8rcCCptPqH4B"
   },
   "source": [
    "### EXERCISE"
   ]
  },
  {
   "cell_type": "markdown",
   "metadata": {
    "colab_type": "text",
    "collapsed": true,
    "id": "FFak2tRcqH4C"
   },
   "source": [
    "**A medical pharmacy was interested in finding the proportion of customers who pay cash for their medicines as against digital cash or plastic money.**\n",
    "\n",
    "**From a sample of 200 customers, it was found that 140 customers paid by cash.** \n",
    "\n",
    "**Calculate the 95% confidence interval for proportions who pay by cash.**"
   ]
  },
  {
   "cell_type": "markdown",
   "metadata": {
    "colab_type": "text",
    "id": "pxyjvIrmqH4C"
   },
   "source": [
    "In this example, \n",
    "* n          =  200\n",
    "* $\\hat{p}$  =  140 / 200 = 0.7\n",
    "* $\\hat{q}$  =  60  / 200 = 0.3\n",
    "\n",
    "We find n X $\\hat{p}$ X $\\hat{q}$ = 200 * 0.7 * 0.3 = 42 $\\geq$ 10, and hence we can use the confidence interval equation\n",
    "$\\hat{p}$ - $Z_\\frac{\\alpha}{2} \\sqrt{\\frac{\\hat(p)\\hat(q)}{n}}$ $\\leq$ p\n",
    "$\\leq$ $\\hat{p}$ + $Z_\\frac{\\alpha}{2} \\sqrt{\\frac{\\hat(p)\\hat(q)}{n}}$ "
   ]
  },
  {
   "cell_type": "markdown",
   "metadata": {
    "colab_type": "text",
    "id": "0g_vVMd9qH4D"
   },
   "source": [
    "W3e can use the function statsmodels.stats.proportion.proportion_confint to find out the required confidence interval by giving the following parameters:\n",
    "* count  = Number of events of interest such as number of customers who paid by cash\n",
    "* nobs   = Total number of observations\n",
    "* alpha  = Level of significance for determining the confidence interval\n",
    "* method = Method used for finding the confidence interval"
   ]
  },
  {
   "cell_type": "code",
   "execution_count": 12,
   "metadata": {},
   "outputs": [
    {
     "name": "stdout",
     "output_type": "stream",
     "text": [
      "0.6364899081898882  < ci <  0.7635100918101118\n"
     ]
    }
   ],
   "source": [
    "import statsmodels.stats.proportion as ss\n",
    "low,up=ss.proportion_confint(140,200,alpha=0.05,method='normal')\n",
    "print(low,\" < ci < \",up)"
   ]
  },
  {
   "cell_type": "markdown",
   "metadata": {
    "colab_type": "text",
    "id": "Iz7N_rUPqH4H"
   },
   "source": [
    "## Confidence interval for population mean when standard deviation is unknown"
   ]
  },
  {
   "cell_type": "markdown",
   "metadata": {
    "colab_type": "text",
    "id": "ewuZdGvvqH4H"
   },
   "source": [
    "When the standard deviation of the population is unknown, then we will not be able to use the formula \n",
    "$\\overline{X} \\pm Z _\\frac{\\alpha}{2} \\frac {\\sigma} {\\sqrt{n}}$"
   ]
  },
  {
   "cell_type": "markdown",
   "metadata": {
    "colab_type": "text",
    "id": "c3xqg_rpqH4I"
   },
   "source": [
    "William Sealy Gosset under a pseudonym, Student in 1908 proved that if the population follows a normal distribution and the standard deviation taken from the sample, then the following statistic \n",
    "t = $\\frac{\\overline{X} - \\mu} {\\frac{S} {\\sqrt{n}}}$ \n",
    "follows a t distribution with n-1 degrees of freedom."
   ]
  },
  {
   "cell_type": "markdown",
   "metadata": {
    "colab_type": "text",
    "id": "E8SEqqtrqH4I"
   },
   "source": [
    "* Here, S is the standard deviation (aka standard error) estimated from the sample.\n",
    "* $\\mu$ is the population mean.\n",
    "* n is the sample size\n",
    "\n",
    "Note: n - 1 is the degrees of freedom.\n",
    "\n",
    "**Degrees of freedom for an estimate is equal to the number of values minus the number of parameters estimated to arrive at the estimate in question. In other words, the number of values in the final calculation of a statistic that are free to vary.** \n",
    "\n",
    "The t distribution is very similar to the standard normal distribution.  As the degrees of freedom increases, the t distribution converges to standard normal distribution.\n",
    "\n",
    "The (1 - $\\alpha$) 100% confidence interval for population mean when the population standard deviation is unknown is given as:\n",
    "\n",
    "$\\overline{X} \\pm t _{\\frac{\\alpha}{{2,}}{n-1}} \\frac {S} {\\sqrt{n}}$"
   ]
  },
  {
   "cell_type": "markdown",
   "metadata": {
    "colab_type": "text",
    "id": "2Zmtv52NqH4J"
   },
   "source": [
    "* In the above equation, the value, $t_{\\frac{\\alpha}{{2,}}{n-1}}$ is the value of t under the t -distribution for which the cumulative prbability.\n",
    "\n",
    "F(t) = 0.025 when the degrees of freedom is n-1 and $\\alpha$ is 0.05.\n",
    "* Degrees of freedom is (n - 1) since sample of size n is used to estimate the standard deviation. "
   ]
  },
  {
   "cell_type": "markdown",
   "metadata": {
    "colab_type": "text",
    "id": "EtPPktmBqH4J"
   },
   "source": [
    "For various values of $\\alpha$, calculate the absolute values of $t_{\\frac{\\alpha}{{2,}}{n-1}}$ along with the $Z_\\frac{\\alpha}{2}$ values.\n",
    "\n",
    "scipy.stats.t.ppf"
   ]
  },
  {
   "cell_type": "code",
   "execution_count": 0,
   "metadata": {
    "colab": {},
    "colab_type": "code",
    "id": "YzihSMBqqH4J",
    "outputId": "e26877c5-4b61-4505-86a4-bd1300d86fd8"
   },
   "outputs": [
    {
     "name": "stdout",
     "output_type": "stream",
     "text": [
      "        a-0    t-10    t-30    t-50   t-100   t-500  z-9725\n",
      "alpha  0.10  1.8125  1.6973  1.6759  1.6602  1.6479    1.64\n",
      "alpha  0.05  2.2281  2.0423  2.0086  1.9840  1.9647    1.96\n",
      "alpha  0.02  2.7638  2.4573  2.4033  2.3642  2.3338    2.33\n",
      "alpha  0.01  3.1693  2.7500  2.6778  2.6259  2.5857    2.58\n"
     ]
    }
   ],
   "source": [
    "df                 =  pd.DataFrame()\n",
    "Significance_Level =  [0.1, 0.05, 0.02, 0.01] \n",
    "df_List            =  [10,  30,   50, 100, 500]\n",
    "\n",
    "for i in range(len(Significance_Level)):\n",
    "    SL_2    =  Significance_Level[i] / 2\n",
    "    Z       =  np.abs(round(stats.norm.isf(q = SL_2), 2))\n",
    "    t       =  [0,0,0,0,0]\n",
    "    for j in range(len(df_List)):\n",
    "        deg_fr  =  df_List[j]        \n",
    "        t[j]       =  np.abs(round(stats.t.ppf( (1- SL_2), deg_fr),4))\n",
    "    t_dict1 = {\"a-0\": Significance_Level[i],\"t-10\" : t[0], \"t-30\" : t[1],\n",
    "               \"t-50\" : t[2],\"t-100\" : t[3], \"t-500\" : t[4], \"z-9725\" : Z}\n",
    "    data    = pd.DataFrame(t_dict1, index = ['alpha'] )\n",
    "    df      = df.append(data)\n",
    "df          = df.reindex_axis(sorted(df.columns, \n",
    "                                     key=lambda x: float(x[1:]),reverse = True), axis=1)\n",
    "print(df)"
   ]
  },
  {
   "cell_type": "markdown",
   "metadata": {
    "colab_type": "text",
    "id": "Ay-O3hxFqH4M"
   },
   "source": [
    "| $\\alpha$ | t with df = 10 | t with df = 30 | t with df = 50 | t with df = 100 | t with df = 500 | Z with alpha/2 | \n",
    "| ---- | ------ | ----- | ---- | ------ | ----- | ---- |\n",
    "| 0.10 | 1.8125 | 1.6973 | 1.6759 | 1.6602 | 1.6479 | 1.64 |\n",
    "| 0.05 | 2.2281 | 2.0423 | 2.0086 | 1.9840 | 1.9647 | 1.96 |\n",
    "| 0.02 | 2.7638 | 2.4573 | 2.4033 | 2.3642 | 2.3338 | 2.33 |\n",
    "| 0.01 | 3.1693 | 2.7500 | 2.6778 | 2.6259 | 2.5857 | 2.58 |"
   ]
  },
  {
   "cell_type": "markdown",
   "metadata": {
    "colab_type": "text",
    "id": "oyHY-rxQqH4N"
   },
   "source": [
    "**We observe that the values of t and Z converge for higher degrees of freedom.**"
   ]
  },
  {
   "cell_type": "markdown",
   "metadata": {
    "colab_type": "text",
    "id": "2pnHCBx0qH4N"
   },
   "source": [
    "### EXERCISE"
   ]
  },
  {
   "cell_type": "markdown",
   "metadata": {
    "colab_type": "text",
    "id": "gcMib7_gqH4O"
   },
   "source": [
    "The following table contains the length of stay in minutes of each customer at a Fast Food restaurant.\n",
    "\n",
    "|      |      |      |      |      |\n",
    "| ---  | ---  | ---  | ---  | ---  |\n",
    "| 7.42 | 6.29 | 5.83 | 6.50 | 8.34 |\n",
    "| 9.51 | 7.10 | 6.80 | 5.90 | 4.89 |\n",
    "| 6.50 | 5.52 | 7.90 | 8.30 | 9.60 |\n",
    "\n",
    "* a. *Construct 95% confidence interval estimate for the population mean length of stay at Fast Food restaurant, assuming a normal distribution.*\n",
    "* b. *Interpret the interval constructed at a.*"
   ]
  },
  {
   "cell_type": "code",
   "execution_count": 15,
   "metadata": {},
   "outputs": [
    {
     "name": "stdout",
     "output_type": "stream",
     "text": [
      "6.4059107491075125  < ci <  7.780755917559151\n"
     ]
    }
   ],
   "source": [
    "m=(7.42+6.29+5.83+6.50+8.34+9.51+7.10+6.80+5.90+4.89+6.50+5.52+7.90+8.30+9.60)/15\n",
    "l=[7.42,6.29,5.83,6.50,8.34,9.51,7.10,6.80,5.90,4.89,6.50,5.52,7.90,8.30,9.60]\n",
    "p=0\n",
    "for i in l:\n",
    "    p=p+(i-m)**2\n",
    "s=(p/15)**(1/2)\n",
    "print(m-((1.96 * s)/(15)**(1/2)),\" < ci < \", m+((1.96 * s)/(15)**(1/2)))"
   ]
  },
  {
   "cell_type": "code",
   "execution_count": null,
   "metadata": {},
   "outputs": [],
   "source": [
    "# Average stay in minutes of each customer at a fast food restaurant will always be in the the range or interval interpreted\n",
    "# in the above cell i.e., 6.4059 std deviation back from mean and 7.7807 std deviation ahead of mean."
   ]
  },
  {
   "cell_type": "markdown",
   "metadata": {
    "colab_type": "text",
    "id": "SwR7hA-yqH4d"
   },
   "source": [
    "### Confidence interval for population variance"
   ]
  },
  {
   "cell_type": "markdown",
   "metadata": {
    "colab_type": "text",
    "id": "7FO3FjS_qH4d"
   },
   "source": [
    "The random variable defined by $\\frac{n-1 {S_i}^2}{\\sigma^2}$ follows a $\\chi^2$ distribution with n-1 degrees of freedom.\n",
    "\n",
    "Here ${S_1}^2$, ${S_2}^2$,... ${S_n}^2$ are the sample variances estimated from samples of size n drawn from a normal distribution with variance ${\\sigma }^2$.\n",
    "\n",
    "The {1 - $\\alpha$)100% confidence interval for variance, ${\\sigma}^2$ is given by Tate and Klett (1959) and Cohen(1972).\n",
    "\n",
    "$\\bigg( \\frac{(n-1) {S}^2}{{\\chi}^2_{\\frac{\\alpha}{{2,}}{n-1}}}$ , $\\frac{(n-1) {S}^2}{{\\chi}^2_{\\frac{1 -\\alpha}{{2,}}{n-1}}} \\bigg)$"
   ]
  },
  {
   "cell_type": "markdown",
   "metadata": {
    "colab_type": "text",
    "id": "vO2LeJHnqH4d"
   },
   "source": [
    "### EXERCISE"
   ]
  },
  {
   "cell_type": "markdown",
   "metadata": {
    "colab_type": "text",
    "id": "vAh9lnd9qH4e"
   },
   "source": [
    "The variance of volume of 20 litre water can is estimated to be 324 ml based on  a sample of 50 water cans. \n",
    "\n",
    "a. Calculate a 95% confidence interval for the variance in water cans."
   ]
  },
  {
   "cell_type": "code",
   "execution_count": 14,
   "metadata": {},
   "outputs": [
    {
     "name": "stdout",
     "output_type": "stream",
     "text": [
      "239.31623931623932 , 467.9045092838196\n"
     ]
    }
   ],
   "source": [
    "print(((50-1) * 324)/66.339,\",\",((50-1) * 324)/33.930)"
   ]
  },
  {
   "cell_type": "markdown",
   "metadata": {
    "colab_type": "text",
    "id": "Lo1686J2qH4h"
   },
   "source": [
    "95% confidence interval for variance is given by:\n",
    "$\\bigg( \\frac{(n-1) {S}^2}{{\\chi}^2_{\\frac{\\alpha}{{2,}}{n-1}}}$ , $\\frac{(n-1) {S}^2}{{\\chi}^2_{\\frac{1 -\\alpha}{{2,}}{n-1}}} \\bigg)$"
   ]
  },
  {
   "cell_type": "code",
   "execution_count": null,
   "metadata": {},
   "outputs": [],
   "source": []
  },
  {
   "cell_type": "markdown",
   "metadata": {
    "colab_type": "text",
    "id": "IOjo-1y9qH4l"
   },
   "source": [
    "## Setting up hypothesis"
   ]
  },
  {
   "cell_type": "markdown",
   "metadata": {
    "colab_type": "text",
    "id": "xuj8iv5IqH4l"
   },
   "source": [
    "*Beware of the problem of testing too many hypotheses; the more you torture the data, the more likely they are to confess, but confessions obtained under duress may not be admissible in the court of scientific opinion* - Stephen M Stigler\n",
    "\n",
    "* Hypothesis is a claim made by a person / organization.\n",
    "\n",
    "* The claim is usually about the population parameters such as mean or proportion and we seek evidence from a sample for the support of the claim (Example: average salary of Data Scientist with 1 year experience is Rs 5 Lakhs per annum).\n",
    "\n",
    "* Hypothesis testing is a process used for either rejecting or retaining null hypothesis."
   ]
  },
  {
   "cell_type": "markdown",
   "metadata": {
    "colab_type": "text",
    "id": "xX-l-AGDqH4l"
   },
   "source": [
    "** Examples of some claims:**\n",
    "*  If you drink Horlicks, you can grow taller, stronger and sharper.\n",
    "*  Two - minute for cooking noodles. (or eating !!)\n",
    "*  Married people are happier than singles (Anon - 2015).\n",
    "*  Smokers are better sales people.\n",
    "\n",
    "*Hypothesis testing is used for checking the validity of the claim using evidence found in sample data.*"
   ]
  },
  {
   "cell_type": "markdown",
   "metadata": {
    "colab_type": "text",
    "collapsed": true,
    "id": "ujMZuv8qqH4m"
   },
   "source": [
    "### Type I Error, Type II error and power of the hypothesis test"
   ]
  },
  {
   "cell_type": "markdown",
   "metadata": {
    "colab_type": "text",
    "id": "72Ho6vczqH4m"
   },
   "source": [
    "### Type I error"
   ]
  },
  {
   "cell_type": "markdown",
   "metadata": {
    "colab_type": "text",
    "id": "mC_5XxRrqH4m"
   },
   "source": [
    "* It is the conditional probability of rejecting a null hypothesis when it is true, is called **Type I error or False positive.**\n",
    "* $\\alpha$, the level of significance is the value of Type I error.\n",
    "* P(Reject null hypothesis | $H_0$ is true) = $\\alpha$"
   ]
  },
  {
   "cell_type": "markdown",
   "metadata": {
    "colab_type": "text",
    "id": "krgU0YIMqH4n"
   },
   "source": [
    "### Type II error"
   ]
  },
  {
   "cell_type": "markdown",
   "metadata": {
    "colab_type": "text",
    "id": "p1V8Q0CsqH4n"
   },
   "source": [
    "* It is the conditional probability of retaining a null hypothesis when it is true, is called **Type II error or False Negative.**\n",
    "* $\\beta$, is the value of Type II error.\n",
    "* P(Retain null hypothesis | $H_0$ is false) = $\\beta$"
   ]
  },
  {
   "cell_type": "markdown",
   "metadata": {
    "colab_type": "text",
    "id": "efzXB5P5qH4o"
   },
   "source": [
    "### Power of the test"
   ]
  },
  {
   "cell_type": "markdown",
   "metadata": {
    "colab_type": "text",
    "id": "6y3dZDg-qH4o"
   },
   "source": [
    "* (1 - $\\beta$) is known as the **power of the test**.\n",
    "* It is P(Reject null hypothesis | $H_0$ is false) = 1- $\\beta$"
   ]
  },
  {
   "cell_type": "markdown",
   "metadata": {
    "colab_type": "text",
    "id": "4sDvhdngqH4q"
   },
   "source": [
    "## Steps involved in solving the hypothesis testing"
   ]
  },
  {
   "cell_type": "markdown",
   "metadata": {
    "colab_type": "text",
    "id": "6T4ZCXWpqH4q"
   },
   "source": [
    "### 1 Define null and alternative hypotheses"
   ]
  },
  {
   "cell_type": "markdown",
   "metadata": {
    "colab_type": "text",
    "id": "uils4mtIqH4q"
   },
   "source": [
    "* ### Null hypothesis means no relationship or status quo\n",
    "* ### Alternative hypothesis is what the researcher wants to prove"
   ]
  },
  {
   "cell_type": "markdown",
   "metadata": {
    "colab_type": "text",
    "id": "rLodU9QxqH4r"
   },
   "source": [
    "### EXERCISE"
   ]
  },
  {
   "cell_type": "markdown",
   "metadata": {
    "colab_type": "text",
    "id": "pv4A04h_qH4s"
   },
   "source": [
    "Write the null and alternative hypothesis from the following hypopthesis description:\n",
    "a. Average annual salary of Data Scientists is different for those having Ph.D in Statistics and those who do not.\n",
    "* Let $\\mu_{PhD}$ be the average annual salary of a Data scientist with Ph.D in Statistics.\n",
    "* Let $\\mu_{NoPhD}$ be the average annual salary of a Data scientist without Ph.D in Statistics."
   ]
  },
  {
   "cell_type": "markdown",
   "metadata": {
    "colab_type": "text",
    "id": "RdEwTHgqqH4s"
   },
   "source": [
    "* Null hypothesis:        $H_0$: $\\mu_{PhD}$ =    $\\mu_{NoPhD}$ \n",
    "* Alternative hypothesis: $H_A$: $\\mu_{PhD}$ $\\neq$ $\\mu_{NoPhD}$ "
   ]
  },
  {
   "cell_type": "markdown",
   "metadata": {
    "colab_type": "text",
    "id": "Lk8XEgb1qH4t"
   },
   "source": [
    "Since the rejection region is on either side of the distribution, it will be a **two-tailed** test."
   ]
  },
  {
   "cell_type": "markdown",
   "metadata": {
    "colab_type": "text",
    "id": "EO5YkWFBqH4t"
   },
   "source": [
    "b. Average annual salary of Data Scientists is more for those having Ph.D in Statistics and those who do not."
   ]
  },
  {
   "cell_type": "markdown",
   "metadata": {
    "colab_type": "text",
    "id": "z218bLxbqH4t"
   },
   "source": [
    "* Null hypothesis:        $H_0$: $\\mu_{PhD}$ $\\leq$   $\\mu_{NoPhD}$ \n",
    "* Alternative hypothesis: $H_A$: $\\mu_{PhD}$ >        $\\mu_{NoPhD}$ "
   ]
  },
  {
   "cell_type": "markdown",
   "metadata": {
    "colab_type": "text",
    "id": "0eOPC8-BqH4u"
   },
   "source": [
    "Since the rejection region is on the right side of the distribution, it will be a one-tailed test."
   ]
  },
  {
   "cell_type": "markdown",
   "metadata": {
    "colab_type": "text",
    "id": "_vQMzbx3qH4u"
   },
   "source": [
    "### 2 Decide the significance level"
   ]
  },
  {
   "cell_type": "markdown",
   "metadata": {
    "colab_type": "text",
    "id": "4E21FkwKqH4v"
   },
   "source": [
    "* You control the Type I error by determining the risk level, $\\alpha$, the level of significance that you are willing to reject the null hypothesis when it is true. Traditionally, you select a level of 0.01, 0.05 or 0.10. The choice of selection for making Type I error depends on the cost of making a Type I error.\n",
    "\n",
    "* One way to reduce the probability of making a Type II error is by increasing the sample size. For a given level of $\\alpha$, increasing the sample size decreases $\\beta$ resulting in increasing the power of the statistical test to detect that null hypothesis is false."
   ]
  },
  {
   "cell_type": "markdown",
   "metadata": {
    "colab_type": "text",
    "id": "REpMKmVnqH4v"
   },
   "source": [
    "### 3 Identify the test statistic"
   ]
  },
  {
   "cell_type": "markdown",
   "metadata": {
    "colab_type": "text",
    "id": "BcFDjE7BqH4w"
   },
   "source": [
    "* ### The test statistic will depend on the probability distribution of the sampling distribution"
   ]
  },
  {
   "cell_type": "markdown",
   "metadata": {
    "colab_type": "text",
    "id": "JIErBvu0qH4y"
   },
   "source": [
    "### 4 Calculate the p-value or critical values"
   ]
  },
  {
   "cell_type": "markdown",
   "metadata": {
    "colab_type": "text",
    "id": "UajZQi-HqH40"
   },
   "source": [
    "* ### P-value is the conditional probability of observing the test statistic value or extreme than the sample result when the null hypothesis is true.\n",
    "\n",
    "* ### Critical value approach\n",
    "\n",
    "* Critical values for the appropriate test statistic are selected so that the rejection region contains a total area of $\\alpha$ when $H_0$ is true and the non-rejection region contains a total area of 1 - $\\alpha$ when $H_0$ is true."
   ]
  },
  {
   "cell_type": "markdown",
   "metadata": {
    "colab_type": "text",
    "id": "ljU1-fjUqH40"
   },
   "source": [
    "### 5 Decide to reject or accept null hypothesis"
   ]
  },
  {
   "cell_type": "markdown",
   "metadata": {
    "colab_type": "text",
    "id": "onFz-prlqH41"
   },
   "source": [
    "* ### Reject null hypothesis when test statisic lies in the rejection region; retain null hypothesis otherwise. \n",
    "* ### OR\n",
    "* ### Reject null hypothesis when p-value < α; retain null hypothesis otherwise.\n"
   ]
  },
  {
   "cell_type": "markdown",
   "metadata": {
    "colab_type": "text",
    "collapsed": true,
    "id": "rY1l3NSHqH41"
   },
   "source": [
    "### EXERCISE\n",
    "\n",
    "A beverages company produces mineral water and available in 250 ml, 500 ml, 1 litre and 2 litre bottles, 5 litre, 15 litre and 20 litre jars.\n",
    "Let us consider 2 litre bottles. Company specification require a mean volume of 2 litre per bottle.\n",
    "You must adjust the water filling process when the mean volume in the population of bottles differs from 2 litres. Adjusting the process requires shutting down the water filling production line completely, so you do not want to make any adjustments without any reason unnecessarily.\n",
    "\n",
    "Assume a sample of 50 water bottles indicate a sample mean, $\\overline{X}$ of 2.001 litres and the population standard deviation, $\\sigma$ is 15 ml."
   ]
  },
  {
   "cell_type": "markdown",
   "metadata": {
    "colab_type": "text",
    "id": "gsmJzql3qH41"
   },
   "source": [
    "#### Hypothesis testing using the critical value approach"
   ]
  },
  {
   "cell_type": "code",
   "execution_count": 19,
   "metadata": {},
   "outputs": [
    {
     "name": "stdout",
     "output_type": "stream",
     "text": [
      "Null hypothesis is true\n"
     ]
    }
   ],
   "source": [
    "# 1- Null hypothesis : 𝜇 = 2.00 litres\n",
    "#    Alternate hypothesis : 𝜇 ≠ 2.00 litres\n",
    "# 2- alpha = 0.05\n",
    "# 3- z score\n",
    "# 4- below\n",
    "z = (2.001-2.00)/(0.015/((50)**(1/2)))\n",
    "# 5- check hypothesis\n",
    "if(z>1.96 or z<-1.96):\n",
    "    print(\"Null hypothesis rejected\")\n",
    "else:\n",
    "    print(\"Null hypothesis is true\")"
   ]
  },
  {
   "cell_type": "markdown",
   "metadata": {
    "colab_type": "text",
    "collapsed": true,
    "id": "iaq_pA_DqH5H"
   },
   "source": [
    "### EXERCISE\n",
    "\n",
    "A manufacturer claims that the mean lifetime of LED lamp is more than 50000 hours. Assume actual mean LED lamp lifetime is 49950 hours and population standard deviation is 120 hours. \n",
    "\n",
    "At 5% level of significance, what is the probability of having type II error for a sample size of 30 LED lamps?"
   ]
  },
  {
   "cell_type": "markdown",
   "metadata": {
    "colab_type": "text",
    "id": "ql0tSNb1qH5J"
   },
   "source": [
    "* Assume actual mean LED lamp lifetime is 49950 hours \n",
    "* We need to find the P(Population mean $\\geq$ 49950  | $H_A$ is true)"
   ]
  },
  {
   "cell_type": "code",
   "execution_count": 23,
   "metadata": {},
   "outputs": [
    {
     "name": "stdout",
     "output_type": "stream",
     "text": [
      "p(Population mean ≥ 50000 | 𝜇 = 49950)\n",
      "p( z ≥  2.282177322938192  )\n"
     ]
    }
   ],
   "source": [
    "# 1- Null hypothesis : 𝜇 ≥ 50000 hours\n",
    "#    Alternate hypothesis 𝜇 < 50000 hours\n",
    "# 2- alpha = 0.05\n",
    "# 3- Probability using z score test\n",
    "# 4- calculate below\n",
    "print(\"p(Population mean ≥ 50000 | 𝜇 = 49950)\")\n",
    "print(\"p( z ≥ \",(50000 - 49950)/(120/((30)**(1/2))),\" )\")"
   ]
  },
  {
   "cell_type": "code",
   "execution_count": 24,
   "metadata": {},
   "outputs": [
    {
     "name": "stdout",
     "output_type": "stream",
     "text": [
      "As z score is nearly less than 2.326, hence the probability is 0.010\n"
     ]
    }
   ],
   "source": [
    "print(\"As z score is nearly less than 2.326, hence the probability is 0.010\")"
   ]
  }
 ],
 "metadata": {
  "colab": {
   "name": "day2_Statistics.ipynb",
   "provenance": [],
   "version": "0.3.2"
  },
  "kernelspec": {
   "display_name": "Python 3",
   "language": "python",
   "name": "python3"
  },
  "language_info": {
   "codemirror_mode": {
    "name": "ipython",
    "version": 3
   },
   "file_extension": ".py",
   "mimetype": "text/x-python",
   "name": "python",
   "nbconvert_exporter": "python",
   "pygments_lexer": "ipython3",
   "version": "3.7.3"
  }
 },
 "nbformat": 4,
 "nbformat_minor": 1
}
