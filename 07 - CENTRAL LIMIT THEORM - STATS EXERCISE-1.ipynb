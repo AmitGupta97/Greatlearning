{
 "cells": [
  {
   "cell_type": "markdown",
   "metadata": {
    "colab_type": "text",
    "id": "RoqX15ijqH2_"
   },
   "source": [
    "## Central Limit Theorem"
   ]
  },
  {
   "cell_type": "markdown",
   "metadata": {
    "colab_type": "text",
    "id": "E6WKwgIyqH3D"
   },
   "source": [
    "* Central Limit Theorem (CLT) is one of the most important theorems in Statistics due to its applications in testing of hypothesis.\n",
    "\n",
    "* CLT states that for a large sample drawn from a population with mean $\\mu$ and standard deviation $\\sigma$, the sampling distribution of mean, follows an approximate normal distribution with mean, μ and standard error σ / √(n) irrespective of the distribution of the population for large sample size.\n",
    "\n",
    "* Let S1, S2, ..., Sk be samples of size n, drawn from an independent and identically distributed population with mean, μ and standard deviation, σ. \n",
    "\n",
    "* Let be $\\overline{X_1}$, $\\overline{X_2}$, ..., $\\overline{X_k}$,  the sample means of the samples (S1, S2, ..., Sk ). \n",
    "\n",
    "* According to CLT, the distribution of $\\overline{X_1}$, $\\overline{X_2}$, ..., $\\overline{X_k}$, follows a normal distribution with mean, μ and standard deviation, σ / √(n) for large value of n. \n",
    "\n",
    "* As a general rule, statisticians have found that for many population distribution, when the sample size is at least 30, the sampling distribution of the mean is approximately **normal.**"
   ]
  },
  {
   "cell_type": "markdown",
   "metadata": {
    "colab_type": "text",
    "id": "HPjbQrTKqH3E"
   },
   "source": [
    "### Implications of CLT\n",
    "* 1) X - μ / (σ / √(n) ~ N(0,1)\n",
    "* 2) If Sn = X1 + X2 + ... + Xn, then E(Sn) = nμ and Standard Error is σ √(n)\n",
    "* The random variable (Sn - nμ ) / (σ √(n))  is a standard normal variate\n"
   ]
  },
  {
   "cell_type": "markdown",
   "metadata": {
    "colab_type": "text",
    "id": "2_L52GxBqH3F"
   },
   "source": [
    "### EXERCISE"
   ]
  },
  {
   "cell_type": "markdown",
   "metadata": {
    "colab_type": "text",
    "id": "lJIjDrG6qH3F"
   },
   "source": [
    "A hospital is interested in estimating the average time it takes to discharge a patient after the doctor signs the discharge summary sheet. \n",
    "\n",
    "Calculate the required sample size at a confidence level of 95%. Assume that the population standard deviation is 25 minutes."
   ]
  },
  {
   "cell_type": "code",
   "execution_count": 4,
   "metadata": {},
   "outputs": [
    {
     "name": "stdout",
     "output_type": "stream",
     "text": [
      "sample size is  960400.0\n"
     ]
    }
   ],
   "source": [
    "# For 95% confidence level z score is 1.96. Lets assume that there is a 5% possibility that our confidence interval\n",
    "# will not capture the true value i.e, margin of error is 0.05.\n",
    "# z-score * σ/√(n) = margin of error\n",
    "n = ((1.96 * 25)/0.05)**2\n",
    "print(\"sample size is \",n)"
   ]
  },
  {
   "cell_type": "code",
   "execution_count": null,
   "metadata": {},
   "outputs": [],
   "source": []
  }
 ],
 "metadata": {
  "colab": {
   "name": "day2_Statistics.ipynb",
   "provenance": [],
   "version": "0.3.2"
  },
  "kernelspec": {
   "display_name": "Python 3",
   "language": "python",
   "name": "python3"
  },
  "language_info": {
   "codemirror_mode": {
    "name": "ipython",
    "version": 3
   },
   "file_extension": ".py",
   "mimetype": "text/x-python",
   "name": "python",
   "nbconvert_exporter": "python",
   "pygments_lexer": "ipython3",
   "version": "3.7.3"
  }
 },
 "nbformat": 4,
 "nbformat_minor": 1
}
